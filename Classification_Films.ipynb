{
  "nbformat": 4,
  "nbformat_minor": 0,
  "metadata": {
    "colab": {
      "name": "Classification Films",
      "provenance": [],
      "collapsed_sections": []
    },
    "kernelspec": {
      "display_name": "Python 3",
      "name": "python3"
    }
  },
  "cells": [
    {
      "cell_type": "markdown",
      "metadata": {
        "id": "dvh0JbYr_Usp"
      },
      "source": [
        "### Загрузка данных"
      ]
    },
    {
      "cell_type": "code",
      "metadata": {
        "colab": {
          "base_uri": "https://localhost:8080/"
        },
        "id": "9UepT6dhUE64",
        "outputId": "2e65f56d-a064-41cc-fff5-1624b5f42904"
      },
      "source": [
        "from google.colab import drive\n",
        "drive.mount('/content/drive')"
      ],
      "execution_count": null,
      "outputs": [
        {
          "output_type": "stream",
          "text": [
            "Drive already mounted at /content/drive; to attempt to forcibly remount, call drive.mount(\"/content/drive\", force_remount=True).\n"
          ],
          "name": "stdout"
        }
      ]
    },
    {
      "cell_type": "code",
      "metadata": {
        "id": "GtmXPwMK4esu"
      },
      "source": [
        "import pandas as pd\n",
        "import numpy as np\n",
        "\n",
        "from matplotlib import pyplot as plt\n",
        "import seaborn as sns\n",
        "\n",
        "from tqdm.notebook import tqdm\n",
        "\n",
        "tqdm.pandas()"
      ],
      "execution_count": null,
      "outputs": []
    },
    {
      "cell_type": "markdown",
      "metadata": {
        "id": "ZRAKtzg6Bbqt"
      },
      "source": [
        "Читаем данные из фалов  \n",
        "*Примечание: в данные поле App иявляется индексным*"
      ]
    },
    {
      "cell_type": "code",
      "metadata": {
        "colab": {
          "base_uri": "https://localhost:8080/",
          "height": 258
        },
        "id": "gpsg_gyU6bKh",
        "outputId": "700cb126-6b27-4c38-cc02-b3951fdfa9b5"
      },
      "source": [
        "movies_keywords = pd.read_csv('/content/drive/My Drive/DataSet/keywords.csv')\n",
        "movies_credits = pd.read_csv('/content/drive/My Drive/DataSet/credits.csv')\n",
        "movies_links = pd.read_csv('/content/drive/My Drive/DataSet/links.csv')\n",
        "movies_links_small = pd.read_csv('/content/drive/My Drive/DataSet/links_small.csv')\n",
        "movies_movies_metadata = pd.read_csv('/content/drive/My Drive/DataSet/movies_metadata.csv')\n",
        "movies_ratings = pd.read_csv('/content/drive/My Drive/DataSet/ratings.csv')\n",
        "movies_ratings_small = pd.read_csv('/content/drive/My Drive/DataSet/ratings_small.csv')\n",
        "movies_credits.head(5)"
      ],
      "execution_count": null,
      "outputs": [
        {
          "output_type": "stream",
          "text": [
            "/usr/local/lib/python3.6/dist-packages/IPython/core/interactiveshell.py:2718: DtypeWarning: Columns (10) have mixed types.Specify dtype option on import or set low_memory=False.\n",
            "  interactivity=interactivity, compiler=compiler, result=result)\n"
          ],
          "name": "stderr"
        },
        {
          "output_type": "execute_result",
          "data": {
            "text/html": [
              "<div>\n",
              "<style scoped>\n",
              "    .dataframe tbody tr th:only-of-type {\n",
              "        vertical-align: middle;\n",
              "    }\n",
              "\n",
              "    .dataframe tbody tr th {\n",
              "        vertical-align: top;\n",
              "    }\n",
              "\n",
              "    .dataframe thead th {\n",
              "        text-align: right;\n",
              "    }\n",
              "</style>\n",
              "<table border=\"1\" class=\"dataframe\">\n",
              "  <thead>\n",
              "    <tr style=\"text-align: right;\">\n",
              "      <th></th>\n",
              "      <th>cast</th>\n",
              "      <th>crew</th>\n",
              "      <th>id</th>\n",
              "    </tr>\n",
              "  </thead>\n",
              "  <tbody>\n",
              "    <tr>\n",
              "      <th>0</th>\n",
              "      <td>[{'cast_id': 14, 'character': 'Woody (voice)',...</td>\n",
              "      <td>[{'credit_id': '52fe4284c3a36847f8024f49', 'de...</td>\n",
              "      <td>862</td>\n",
              "    </tr>\n",
              "    <tr>\n",
              "      <th>1</th>\n",
              "      <td>[{'cast_id': 1, 'character': 'Alan Parrish', '...</td>\n",
              "      <td>[{'credit_id': '52fe44bfc3a36847f80a7cd1', 'de...</td>\n",
              "      <td>8844</td>\n",
              "    </tr>\n",
              "    <tr>\n",
              "      <th>2</th>\n",
              "      <td>[{'cast_id': 2, 'character': 'Max Goldman', 'c...</td>\n",
              "      <td>[{'credit_id': '52fe466a9251416c75077a89', 'de...</td>\n",
              "      <td>15602</td>\n",
              "    </tr>\n",
              "    <tr>\n",
              "      <th>3</th>\n",
              "      <td>[{'cast_id': 1, 'character': \"Savannah 'Vannah...</td>\n",
              "      <td>[{'credit_id': '52fe44779251416c91011acb', 'de...</td>\n",
              "      <td>31357</td>\n",
              "    </tr>\n",
              "    <tr>\n",
              "      <th>4</th>\n",
              "      <td>[{'cast_id': 1, 'character': 'George Banks', '...</td>\n",
              "      <td>[{'credit_id': '52fe44959251416c75039ed7', 'de...</td>\n",
              "      <td>11862</td>\n",
              "    </tr>\n",
              "  </tbody>\n",
              "</table>\n",
              "</div>"
            ],
            "text/plain": [
              "                                                cast  ...     id\n",
              "0  [{'cast_id': 14, 'character': 'Woody (voice)',...  ...    862\n",
              "1  [{'cast_id': 1, 'character': 'Alan Parrish', '...  ...   8844\n",
              "2  [{'cast_id': 2, 'character': 'Max Goldman', 'c...  ...  15602\n",
              "3  [{'cast_id': 1, 'character': \"Savannah 'Vannah...  ...  31357\n",
              "4  [{'cast_id': 1, 'character': 'George Banks', '...  ...  11862\n",
              "\n",
              "[5 rows x 3 columns]"
            ]
          },
          "metadata": {
            "tags": []
          },
          "execution_count": 16
        }
      ]
    },
    {
      "cell_type": "code",
      "metadata": {
        "colab": {
          "base_uri": "https://localhost:8080/",
          "height": 419
        },
        "id": "TSI11Z2XGBKJ",
        "outputId": "3f26e63c-86a5-4824-cbd1-6b8f548fb3be"
      },
      "source": [
        "movies_credits"
      ],
      "execution_count": null,
      "outputs": [
        {
          "output_type": "execute_result",
          "data": {
            "text/html": [
              "<div>\n",
              "<style scoped>\n",
              "    .dataframe tbody tr th:only-of-type {\n",
              "        vertical-align: middle;\n",
              "    }\n",
              "\n",
              "    .dataframe tbody tr th {\n",
              "        vertical-align: top;\n",
              "    }\n",
              "\n",
              "    .dataframe thead th {\n",
              "        text-align: right;\n",
              "    }\n",
              "</style>\n",
              "<table border=\"1\" class=\"dataframe\">\n",
              "  <thead>\n",
              "    <tr style=\"text-align: right;\">\n",
              "      <th></th>\n",
              "      <th>cast</th>\n",
              "      <th>crew</th>\n",
              "      <th>id</th>\n",
              "    </tr>\n",
              "  </thead>\n",
              "  <tbody>\n",
              "    <tr>\n",
              "      <th>0</th>\n",
              "      <td>[{'cast_id': 14, 'character': 'Woody (voice)',...</td>\n",
              "      <td>[{'credit_id': '52fe4284c3a36847f8024f49', 'de...</td>\n",
              "      <td>862</td>\n",
              "    </tr>\n",
              "    <tr>\n",
              "      <th>1</th>\n",
              "      <td>[{'cast_id': 1, 'character': 'Alan Parrish', '...</td>\n",
              "      <td>[{'credit_id': '52fe44bfc3a36847f80a7cd1', 'de...</td>\n",
              "      <td>8844</td>\n",
              "    </tr>\n",
              "    <tr>\n",
              "      <th>2</th>\n",
              "      <td>[{'cast_id': 2, 'character': 'Max Goldman', 'c...</td>\n",
              "      <td>[{'credit_id': '52fe466a9251416c75077a89', 'de...</td>\n",
              "      <td>15602</td>\n",
              "    </tr>\n",
              "    <tr>\n",
              "      <th>3</th>\n",
              "      <td>[{'cast_id': 1, 'character': \"Savannah 'Vannah...</td>\n",
              "      <td>[{'credit_id': '52fe44779251416c91011acb', 'de...</td>\n",
              "      <td>31357</td>\n",
              "    </tr>\n",
              "    <tr>\n",
              "      <th>4</th>\n",
              "      <td>[{'cast_id': 1, 'character': 'George Banks', '...</td>\n",
              "      <td>[{'credit_id': '52fe44959251416c75039ed7', 'de...</td>\n",
              "      <td>11862</td>\n",
              "    </tr>\n",
              "    <tr>\n",
              "      <th>...</th>\n",
              "      <td>...</td>\n",
              "      <td>...</td>\n",
              "      <td>...</td>\n",
              "    </tr>\n",
              "    <tr>\n",
              "      <th>45471</th>\n",
              "      <td>[{'cast_id': 0, 'character': '', 'credit_id': ...</td>\n",
              "      <td>[{'credit_id': '5894a97d925141426c00818c', 'de...</td>\n",
              "      <td>439050</td>\n",
              "    </tr>\n",
              "    <tr>\n",
              "      <th>45472</th>\n",
              "      <td>[{'cast_id': 1002, 'character': 'Sister Angela...</td>\n",
              "      <td>[{'credit_id': '52fe4af1c3a36847f81e9b15', 'de...</td>\n",
              "      <td>111109</td>\n",
              "    </tr>\n",
              "    <tr>\n",
              "      <th>45473</th>\n",
              "      <td>[{'cast_id': 6, 'character': 'Emily Shaw', 'cr...</td>\n",
              "      <td>[{'credit_id': '52fe4776c3a368484e0c8387', 'de...</td>\n",
              "      <td>67758</td>\n",
              "    </tr>\n",
              "    <tr>\n",
              "      <th>45474</th>\n",
              "      <td>[{'cast_id': 2, 'character': '', 'credit_id': ...</td>\n",
              "      <td>[{'credit_id': '533bccebc3a36844cf0011a7', 'de...</td>\n",
              "      <td>227506</td>\n",
              "    </tr>\n",
              "    <tr>\n",
              "      <th>45475</th>\n",
              "      <td>[]</td>\n",
              "      <td>[{'credit_id': '593e676c92514105b702e68e', 'de...</td>\n",
              "      <td>461257</td>\n",
              "    </tr>\n",
              "  </tbody>\n",
              "</table>\n",
              "<p>45476 rows × 3 columns</p>\n",
              "</div>"
            ],
            "text/plain": [
              "                                                    cast  ...      id\n",
              "0      [{'cast_id': 14, 'character': 'Woody (voice)',...  ...     862\n",
              "1      [{'cast_id': 1, 'character': 'Alan Parrish', '...  ...    8844\n",
              "2      [{'cast_id': 2, 'character': 'Max Goldman', 'c...  ...   15602\n",
              "3      [{'cast_id': 1, 'character': \"Savannah 'Vannah...  ...   31357\n",
              "4      [{'cast_id': 1, 'character': 'George Banks', '...  ...   11862\n",
              "...                                                  ...  ...     ...\n",
              "45471  [{'cast_id': 0, 'character': '', 'credit_id': ...  ...  439050\n",
              "45472  [{'cast_id': 1002, 'character': 'Sister Angela...  ...  111109\n",
              "45473  [{'cast_id': 6, 'character': 'Emily Shaw', 'cr...  ...   67758\n",
              "45474  [{'cast_id': 2, 'character': '', 'credit_id': ...  ...  227506\n",
              "45475                                                 []  ...  461257\n",
              "\n",
              "[45476 rows x 3 columns]"
            ]
          },
          "metadata": {
            "tags": []
          },
          "execution_count": 17
        }
      ]
    },
    {
      "cell_type": "code",
      "metadata": {
        "colab": {
          "base_uri": "https://localhost:8080/"
        },
        "id": "1UaOLvpdpsJB",
        "outputId": "fc849858-bf77-4250-ba92-a52d195e6309"
      },
      "source": [
        "#проверим тип данных\n",
        "movies_movies_metadata.dtypes"
      ],
      "execution_count": null,
      "outputs": [
        {
          "output_type": "execute_result",
          "data": {
            "text/plain": [
              "adult                     object\n",
              "belongs_to_collection     object\n",
              "budget                    object\n",
              "genres                    object\n",
              "homepage                  object\n",
              "id                        object\n",
              "imdb_id                   object\n",
              "original_language         object\n",
              "original_title            object\n",
              "overview                  object\n",
              "popularity                object\n",
              "poster_path               object\n",
              "production_companies      object\n",
              "production_countries      object\n",
              "release_date              object\n",
              "revenue                  float64\n",
              "runtime                  float64\n",
              "spoken_languages          object\n",
              "status                    object\n",
              "tagline                   object\n",
              "title                     object\n",
              "video                     object\n",
              "vote_average             float64\n",
              "vote_count               float64\n",
              "dtype: object"
            ]
          },
          "metadata": {
            "tags": []
          },
          "execution_count": 18
        }
      ]
    },
    {
      "cell_type": "code",
      "metadata": {
        "colab": {
          "base_uri": "https://localhost:8080/",
          "height": 297
        },
        "id": "bI8I23zuGqKB",
        "outputId": "6b71772e-9235-45e6-adbd-4ad3f37888ae"
      },
      "source": [
        "# немного статистики по данным\n",
        "movies_movies_metadata.describe()"
      ],
      "execution_count": null,
      "outputs": [
        {
          "output_type": "execute_result",
          "data": {
            "text/html": [
              "<div>\n",
              "<style scoped>\n",
              "    .dataframe tbody tr th:only-of-type {\n",
              "        vertical-align: middle;\n",
              "    }\n",
              "\n",
              "    .dataframe tbody tr th {\n",
              "        vertical-align: top;\n",
              "    }\n",
              "\n",
              "    .dataframe thead th {\n",
              "        text-align: right;\n",
              "    }\n",
              "</style>\n",
              "<table border=\"1\" class=\"dataframe\">\n",
              "  <thead>\n",
              "    <tr style=\"text-align: right;\">\n",
              "      <th></th>\n",
              "      <th>revenue</th>\n",
              "      <th>runtime</th>\n",
              "      <th>vote_average</th>\n",
              "      <th>vote_count</th>\n",
              "    </tr>\n",
              "  </thead>\n",
              "  <tbody>\n",
              "    <tr>\n",
              "      <th>count</th>\n",
              "      <td>4.546000e+04</td>\n",
              "      <td>45203.000000</td>\n",
              "      <td>45460.000000</td>\n",
              "      <td>45460.000000</td>\n",
              "    </tr>\n",
              "    <tr>\n",
              "      <th>mean</th>\n",
              "      <td>1.120935e+07</td>\n",
              "      <td>94.128199</td>\n",
              "      <td>5.618207</td>\n",
              "      <td>109.897338</td>\n",
              "    </tr>\n",
              "    <tr>\n",
              "      <th>std</th>\n",
              "      <td>6.433225e+07</td>\n",
              "      <td>38.407810</td>\n",
              "      <td>1.924216</td>\n",
              "      <td>491.310374</td>\n",
              "    </tr>\n",
              "    <tr>\n",
              "      <th>min</th>\n",
              "      <td>0.000000e+00</td>\n",
              "      <td>0.000000</td>\n",
              "      <td>0.000000</td>\n",
              "      <td>0.000000</td>\n",
              "    </tr>\n",
              "    <tr>\n",
              "      <th>25%</th>\n",
              "      <td>0.000000e+00</td>\n",
              "      <td>85.000000</td>\n",
              "      <td>5.000000</td>\n",
              "      <td>3.000000</td>\n",
              "    </tr>\n",
              "    <tr>\n",
              "      <th>50%</th>\n",
              "      <td>0.000000e+00</td>\n",
              "      <td>95.000000</td>\n",
              "      <td>6.000000</td>\n",
              "      <td>10.000000</td>\n",
              "    </tr>\n",
              "    <tr>\n",
              "      <th>75%</th>\n",
              "      <td>0.000000e+00</td>\n",
              "      <td>107.000000</td>\n",
              "      <td>6.800000</td>\n",
              "      <td>34.000000</td>\n",
              "    </tr>\n",
              "    <tr>\n",
              "      <th>max</th>\n",
              "      <td>2.787965e+09</td>\n",
              "      <td>1256.000000</td>\n",
              "      <td>10.000000</td>\n",
              "      <td>14075.000000</td>\n",
              "    </tr>\n",
              "  </tbody>\n",
              "</table>\n",
              "</div>"
            ],
            "text/plain": [
              "            revenue       runtime  vote_average    vote_count\n",
              "count  4.546000e+04  45203.000000  45460.000000  45460.000000\n",
              "mean   1.120935e+07     94.128199      5.618207    109.897338\n",
              "std    6.433225e+07     38.407810      1.924216    491.310374\n",
              "min    0.000000e+00      0.000000      0.000000      0.000000\n",
              "25%    0.000000e+00     85.000000      5.000000      3.000000\n",
              "50%    0.000000e+00     95.000000      6.000000     10.000000\n",
              "75%    0.000000e+00    107.000000      6.800000     34.000000\n",
              "max    2.787965e+09   1256.000000     10.000000  14075.000000"
            ]
          },
          "metadata": {
            "tags": []
          },
          "execution_count": 19
        }
      ]
    },
    {
      "cell_type": "code",
      "metadata": {
        "colab": {
          "base_uri": "https://localhost:8080/",
          "height": 666
        },
        "id": "su0n5paE-3wI",
        "outputId": "99b10362-fb11-46ee-f648-0fbbca989ea7"
      },
      "source": [
        "#объединение данных\n",
        "raw_data = movies_movies_metadata.join(movies_ratings, how='inner')\n",
        "raw_data.head(5)"
      ],
      "execution_count": null,
      "outputs": [
        {
          "output_type": "execute_result",
          "data": {
            "text/html": [
              "<div>\n",
              "<style scoped>\n",
              "    .dataframe tbody tr th:only-of-type {\n",
              "        vertical-align: middle;\n",
              "    }\n",
              "\n",
              "    .dataframe tbody tr th {\n",
              "        vertical-align: top;\n",
              "    }\n",
              "\n",
              "    .dataframe thead th {\n",
              "        text-align: right;\n",
              "    }\n",
              "</style>\n",
              "<table border=\"1\" class=\"dataframe\">\n",
              "  <thead>\n",
              "    <tr style=\"text-align: right;\">\n",
              "      <th></th>\n",
              "      <th>adult</th>\n",
              "      <th>belongs_to_collection</th>\n",
              "      <th>budget</th>\n",
              "      <th>genres</th>\n",
              "      <th>homepage</th>\n",
              "      <th>id</th>\n",
              "      <th>imdb_id</th>\n",
              "      <th>original_language</th>\n",
              "      <th>original_title</th>\n",
              "      <th>overview</th>\n",
              "      <th>popularity</th>\n",
              "      <th>poster_path</th>\n",
              "      <th>production_companies</th>\n",
              "      <th>production_countries</th>\n",
              "      <th>release_date</th>\n",
              "      <th>revenue</th>\n",
              "      <th>runtime</th>\n",
              "      <th>spoken_languages</th>\n",
              "      <th>status</th>\n",
              "      <th>tagline</th>\n",
              "      <th>title</th>\n",
              "      <th>video</th>\n",
              "      <th>vote_average</th>\n",
              "      <th>vote_count</th>\n",
              "      <th>userId</th>\n",
              "      <th>movieId</th>\n",
              "      <th>rating</th>\n",
              "      <th>timestamp</th>\n",
              "    </tr>\n",
              "  </thead>\n",
              "  <tbody>\n",
              "    <tr>\n",
              "      <th>0</th>\n",
              "      <td>False</td>\n",
              "      <td>{'id': 10194, 'name': 'Toy Story Collection', ...</td>\n",
              "      <td>30000000</td>\n",
              "      <td>[{'id': 16, 'name': 'Animation'}, {'id': 35, '...</td>\n",
              "      <td>http://toystory.disney.com/toy-story</td>\n",
              "      <td>862</td>\n",
              "      <td>tt0114709</td>\n",
              "      <td>en</td>\n",
              "      <td>Toy Story</td>\n",
              "      <td>Led by Woody, Andy's toys live happily in his ...</td>\n",
              "      <td>21.9469</td>\n",
              "      <td>/rhIRbceoE9lR4veEXuwCC2wARtG.jpg</td>\n",
              "      <td>[{'name': 'Pixar Animation Studios', 'id': 3}]</td>\n",
              "      <td>[{'iso_3166_1': 'US', 'name': 'United States o...</td>\n",
              "      <td>1995-10-30</td>\n",
              "      <td>373554033.0</td>\n",
              "      <td>81.0</td>\n",
              "      <td>[{'iso_639_1': 'en', 'name': 'English'}]</td>\n",
              "      <td>Released</td>\n",
              "      <td>NaN</td>\n",
              "      <td>Toy Story</td>\n",
              "      <td>False</td>\n",
              "      <td>7.7</td>\n",
              "      <td>5415.0</td>\n",
              "      <td>1</td>\n",
              "      <td>110</td>\n",
              "      <td>1.0</td>\n",
              "      <td>1425941529</td>\n",
              "    </tr>\n",
              "    <tr>\n",
              "      <th>1</th>\n",
              "      <td>False</td>\n",
              "      <td>NaN</td>\n",
              "      <td>65000000</td>\n",
              "      <td>[{'id': 12, 'name': 'Adventure'}, {'id': 14, '...</td>\n",
              "      <td>NaN</td>\n",
              "      <td>8844</td>\n",
              "      <td>tt0113497</td>\n",
              "      <td>en</td>\n",
              "      <td>Jumanji</td>\n",
              "      <td>When siblings Judy and Peter discover an encha...</td>\n",
              "      <td>17.0155</td>\n",
              "      <td>/vzmL6fP7aPKNKPRTFnZmiUfciyV.jpg</td>\n",
              "      <td>[{'name': 'TriStar Pictures', 'id': 559}, {'na...</td>\n",
              "      <td>[{'iso_3166_1': 'US', 'name': 'United States o...</td>\n",
              "      <td>1995-12-15</td>\n",
              "      <td>262797249.0</td>\n",
              "      <td>104.0</td>\n",
              "      <td>[{'iso_639_1': 'en', 'name': 'English'}, {'iso...</td>\n",
              "      <td>Released</td>\n",
              "      <td>Roll the dice and unleash the excitement!</td>\n",
              "      <td>Jumanji</td>\n",
              "      <td>False</td>\n",
              "      <td>6.9</td>\n",
              "      <td>2413.0</td>\n",
              "      <td>1</td>\n",
              "      <td>147</td>\n",
              "      <td>4.5</td>\n",
              "      <td>1425942435</td>\n",
              "    </tr>\n",
              "    <tr>\n",
              "      <th>2</th>\n",
              "      <td>False</td>\n",
              "      <td>{'id': 119050, 'name': 'Grumpy Old Men Collect...</td>\n",
              "      <td>0</td>\n",
              "      <td>[{'id': 10749, 'name': 'Romance'}, {'id': 35, ...</td>\n",
              "      <td>NaN</td>\n",
              "      <td>15602</td>\n",
              "      <td>tt0113228</td>\n",
              "      <td>en</td>\n",
              "      <td>Grumpier Old Men</td>\n",
              "      <td>A family wedding reignites the ancient feud be...</td>\n",
              "      <td>11.7129</td>\n",
              "      <td>/6ksm1sjKMFLbO7UY2i6G1ju9SML.jpg</td>\n",
              "      <td>[{'name': 'Warner Bros.', 'id': 6194}, {'name'...</td>\n",
              "      <td>[{'iso_3166_1': 'US', 'name': 'United States o...</td>\n",
              "      <td>1995-12-22</td>\n",
              "      <td>0.0</td>\n",
              "      <td>101.0</td>\n",
              "      <td>[{'iso_639_1': 'en', 'name': 'English'}]</td>\n",
              "      <td>Released</td>\n",
              "      <td>Still Yelling. Still Fighting. Still Ready for...</td>\n",
              "      <td>Grumpier Old Men</td>\n",
              "      <td>False</td>\n",
              "      <td>6.5</td>\n",
              "      <td>92.0</td>\n",
              "      <td>1</td>\n",
              "      <td>858</td>\n",
              "      <td>5.0</td>\n",
              "      <td>1425941523</td>\n",
              "    </tr>\n",
              "    <tr>\n",
              "      <th>3</th>\n",
              "      <td>False</td>\n",
              "      <td>NaN</td>\n",
              "      <td>16000000</td>\n",
              "      <td>[{'id': 35, 'name': 'Comedy'}, {'id': 18, 'nam...</td>\n",
              "      <td>NaN</td>\n",
              "      <td>31357</td>\n",
              "      <td>tt0114885</td>\n",
              "      <td>en</td>\n",
              "      <td>Waiting to Exhale</td>\n",
              "      <td>Cheated on, mistreated and stepped on, the wom...</td>\n",
              "      <td>3.85949</td>\n",
              "      <td>/16XOMpEaLWkrcPqSQqhTmeJuqQl.jpg</td>\n",
              "      <td>[{'name': 'Twentieth Century Fox Film Corporat...</td>\n",
              "      <td>[{'iso_3166_1': 'US', 'name': 'United States o...</td>\n",
              "      <td>1995-12-22</td>\n",
              "      <td>81452156.0</td>\n",
              "      <td>127.0</td>\n",
              "      <td>[{'iso_639_1': 'en', 'name': 'English'}]</td>\n",
              "      <td>Released</td>\n",
              "      <td>Friends are the people who let you be yourself...</td>\n",
              "      <td>Waiting to Exhale</td>\n",
              "      <td>False</td>\n",
              "      <td>6.1</td>\n",
              "      <td>34.0</td>\n",
              "      <td>1</td>\n",
              "      <td>1221</td>\n",
              "      <td>5.0</td>\n",
              "      <td>1425941546</td>\n",
              "    </tr>\n",
              "    <tr>\n",
              "      <th>4</th>\n",
              "      <td>False</td>\n",
              "      <td>{'id': 96871, 'name': 'Father of the Bride Col...</td>\n",
              "      <td>0</td>\n",
              "      <td>[{'id': 35, 'name': 'Comedy'}]</td>\n",
              "      <td>NaN</td>\n",
              "      <td>11862</td>\n",
              "      <td>tt0113041</td>\n",
              "      <td>en</td>\n",
              "      <td>Father of the Bride Part II</td>\n",
              "      <td>Just when George Banks has recovered from his ...</td>\n",
              "      <td>8.38752</td>\n",
              "      <td>/e64sOI48hQXyru7naBFyssKFxVd.jpg</td>\n",
              "      <td>[{'name': 'Sandollar Productions', 'id': 5842}...</td>\n",
              "      <td>[{'iso_3166_1': 'US', 'name': 'United States o...</td>\n",
              "      <td>1995-02-10</td>\n",
              "      <td>76578911.0</td>\n",
              "      <td>106.0</td>\n",
              "      <td>[{'iso_639_1': 'en', 'name': 'English'}]</td>\n",
              "      <td>Released</td>\n",
              "      <td>Just When His World Is Back To Normal... He's ...</td>\n",
              "      <td>Father of the Bride Part II</td>\n",
              "      <td>False</td>\n",
              "      <td>5.7</td>\n",
              "      <td>173.0</td>\n",
              "      <td>1</td>\n",
              "      <td>1246</td>\n",
              "      <td>5.0</td>\n",
              "      <td>1425941556</td>\n",
              "    </tr>\n",
              "  </tbody>\n",
              "</table>\n",
              "</div>"
            ],
            "text/plain": [
              "   adult                              belongs_to_collection  ... rating   timestamp\n",
              "0  False  {'id': 10194, 'name': 'Toy Story Collection', ...  ...    1.0  1425941529\n",
              "1  False                                                NaN  ...    4.5  1425942435\n",
              "2  False  {'id': 119050, 'name': 'Grumpy Old Men Collect...  ...    5.0  1425941523\n",
              "3  False                                                NaN  ...    5.0  1425941546\n",
              "4  False  {'id': 96871, 'name': 'Father of the Bride Col...  ...    5.0  1425941556\n",
              "\n",
              "[5 rows x 28 columns]"
            ]
          },
          "metadata": {
            "tags": []
          },
          "execution_count": 20
        }
      ]
    },
    {
      "cell_type": "code",
      "metadata": {
        "colab": {
          "base_uri": "https://localhost:8080/"
        },
        "id": "NoF3zeSyVuxl",
        "outputId": "687ae43a-b677-41fd-f0f1-011a1acbb165"
      },
      "source": [
        "#данные о созданной таблице\n",
        "raw_data.info()"
      ],
      "execution_count": null,
      "outputs": [
        {
          "output_type": "stream",
          "text": [
            "<class 'pandas.core.frame.DataFrame'>\n",
            "Int64Index: 45466 entries, 0 to 45465\n",
            "Data columns (total 28 columns):\n",
            " #   Column                 Non-Null Count  Dtype  \n",
            "---  ------                 --------------  -----  \n",
            " 0   adult                  45466 non-null  object \n",
            " 1   belongs_to_collection  4494 non-null   object \n",
            " 2   budget                 45466 non-null  object \n",
            " 3   genres                 45466 non-null  object \n",
            " 4   homepage               7782 non-null   object \n",
            " 5   id                     45466 non-null  object \n",
            " 6   imdb_id                45449 non-null  object \n",
            " 7   original_language      45455 non-null  object \n",
            " 8   original_title         45466 non-null  object \n",
            " 9   overview               44512 non-null  object \n",
            " 10  popularity             45461 non-null  object \n",
            " 11  poster_path            45080 non-null  object \n",
            " 12  production_companies   45463 non-null  object \n",
            " 13  production_countries   45463 non-null  object \n",
            " 14  release_date           45379 non-null  object \n",
            " 15  revenue                45460 non-null  float64\n",
            " 16  runtime                45203 non-null  float64\n",
            " 17  spoken_languages       45460 non-null  object \n",
            " 18  status                 45379 non-null  object \n",
            " 19  tagline                20412 non-null  object \n",
            " 20  title                  45460 non-null  object \n",
            " 21  video                  45460 non-null  object \n",
            " 22  vote_average           45460 non-null  float64\n",
            " 23  vote_count             45460 non-null  float64\n",
            " 24  userId                 45466 non-null  int64  \n",
            " 25  movieId                45466 non-null  int64  \n",
            " 26  rating                 45466 non-null  float64\n",
            " 27  timestamp              45466 non-null  int64  \n",
            "dtypes: float64(5), int64(3), object(20)\n",
            "memory usage: 10.1+ MB\n"
          ],
          "name": "stdout"
        }
      ]
    },
    {
      "cell_type": "code",
      "metadata": {
        "colab": {
          "base_uri": "https://localhost:8080/",
          "height": 204
        },
        "id": "kstUitKnZ107",
        "outputId": "6040501c-ec17-4055-dd0a-c28dd50c0b07"
      },
      "source": [
        "#выбор нужных столбцов\n",
        "df = raw_data.drop(['original_title','vote_average','movieId', 'userId', 'timestamp', 'video', 'tagline', 'status', 'spoken_languages', 'release_date', 'production_countries', 'production_companies', 'poster_path', 'overview', 'original_language', 'imdb_id', 'id', 'homepage', 'genres', 'belongs_to_collection', 'adult', 'title', ], axis='columns')\n",
        "df.head()\n"
      ],
      "execution_count": null,
      "outputs": [
        {
          "output_type": "execute_result",
          "data": {
            "text/html": [
              "<div>\n",
              "<style scoped>\n",
              "    .dataframe tbody tr th:only-of-type {\n",
              "        vertical-align: middle;\n",
              "    }\n",
              "\n",
              "    .dataframe tbody tr th {\n",
              "        vertical-align: top;\n",
              "    }\n",
              "\n",
              "    .dataframe thead th {\n",
              "        text-align: right;\n",
              "    }\n",
              "</style>\n",
              "<table border=\"1\" class=\"dataframe\">\n",
              "  <thead>\n",
              "    <tr style=\"text-align: right;\">\n",
              "      <th></th>\n",
              "      <th>budget</th>\n",
              "      <th>popularity</th>\n",
              "      <th>revenue</th>\n",
              "      <th>runtime</th>\n",
              "      <th>vote_count</th>\n",
              "      <th>rating</th>\n",
              "    </tr>\n",
              "  </thead>\n",
              "  <tbody>\n",
              "    <tr>\n",
              "      <th>0</th>\n",
              "      <td>30000000</td>\n",
              "      <td>21.9469</td>\n",
              "      <td>373554033.0</td>\n",
              "      <td>81.0</td>\n",
              "      <td>5415.0</td>\n",
              "      <td>1.0</td>\n",
              "    </tr>\n",
              "    <tr>\n",
              "      <th>1</th>\n",
              "      <td>65000000</td>\n",
              "      <td>17.0155</td>\n",
              "      <td>262797249.0</td>\n",
              "      <td>104.0</td>\n",
              "      <td>2413.0</td>\n",
              "      <td>4.5</td>\n",
              "    </tr>\n",
              "    <tr>\n",
              "      <th>2</th>\n",
              "      <td>0</td>\n",
              "      <td>11.7129</td>\n",
              "      <td>0.0</td>\n",
              "      <td>101.0</td>\n",
              "      <td>92.0</td>\n",
              "      <td>5.0</td>\n",
              "    </tr>\n",
              "    <tr>\n",
              "      <th>3</th>\n",
              "      <td>16000000</td>\n",
              "      <td>3.85949</td>\n",
              "      <td>81452156.0</td>\n",
              "      <td>127.0</td>\n",
              "      <td>34.0</td>\n",
              "      <td>5.0</td>\n",
              "    </tr>\n",
              "    <tr>\n",
              "      <th>4</th>\n",
              "      <td>0</td>\n",
              "      <td>8.38752</td>\n",
              "      <td>76578911.0</td>\n",
              "      <td>106.0</td>\n",
              "      <td>173.0</td>\n",
              "      <td>5.0</td>\n",
              "    </tr>\n",
              "  </tbody>\n",
              "</table>\n",
              "</div>"
            ],
            "text/plain": [
              "     budget popularity      revenue  runtime  vote_count  rating\n",
              "0  30000000    21.9469  373554033.0     81.0      5415.0     1.0\n",
              "1  65000000    17.0155  262797249.0    104.0      2413.0     4.5\n",
              "2         0    11.7129          0.0    101.0        92.0     5.0\n",
              "3  16000000    3.85949   81452156.0    127.0        34.0     5.0\n",
              "4         0    8.38752   76578911.0    106.0       173.0     5.0"
            ]
          },
          "metadata": {
            "tags": []
          },
          "execution_count": 22
        }
      ]
    },
    {
      "cell_type": "code",
      "metadata": {
        "colab": {
          "base_uri": "https://localhost:8080/"
        },
        "id": "MYe3cHp-Fevv",
        "outputId": "93201913-dbb7-4910-de46-bb746a3c23f2"
      },
      "source": [
        "df.info()"
      ],
      "execution_count": null,
      "outputs": [
        {
          "output_type": "stream",
          "text": [
            "<class 'pandas.core.frame.DataFrame'>\n",
            "Int64Index: 45466 entries, 0 to 45465\n",
            "Data columns (total 6 columns):\n",
            " #   Column      Non-Null Count  Dtype  \n",
            "---  ------      --------------  -----  \n",
            " 0   budget      45466 non-null  object \n",
            " 1   popularity  45461 non-null  object \n",
            " 2   revenue     45460 non-null  float64\n",
            " 3   runtime     45203 non-null  float64\n",
            " 4   vote_count  45460 non-null  float64\n",
            " 5   rating      45466 non-null  float64\n",
            "dtypes: float64(4), object(2)\n",
            "memory usage: 2.4+ MB\n"
          ],
          "name": "stdout"
        }
      ]
    },
    {
      "cell_type": "code",
      "metadata": {
        "id": "rs4nm1iI6uIF",
        "colab": {
          "base_uri": "https://localhost:8080/",
          "height": 204
        },
        "outputId": "c8ffb1f6-47b6-4f94-bdd3-9382d210dcaf"
      },
      "source": [
        "#поменяем тип Popularity и Budget с object на float64\n",
        "df.budget = pd.to_numeric(df.budget, errors='coerce')\n",
        "df.popularity = pd.to_numeric(df.popularity, errors='coerce')\n",
        "df.head()"
      ],
      "execution_count": null,
      "outputs": [
        {
          "output_type": "execute_result",
          "data": {
            "text/html": [
              "<div>\n",
              "<style scoped>\n",
              "    .dataframe tbody tr th:only-of-type {\n",
              "        vertical-align: middle;\n",
              "    }\n",
              "\n",
              "    .dataframe tbody tr th {\n",
              "        vertical-align: top;\n",
              "    }\n",
              "\n",
              "    .dataframe thead th {\n",
              "        text-align: right;\n",
              "    }\n",
              "</style>\n",
              "<table border=\"1\" class=\"dataframe\">\n",
              "  <thead>\n",
              "    <tr style=\"text-align: right;\">\n",
              "      <th></th>\n",
              "      <th>budget</th>\n",
              "      <th>popularity</th>\n",
              "      <th>revenue</th>\n",
              "      <th>runtime</th>\n",
              "      <th>vote_count</th>\n",
              "      <th>rating</th>\n",
              "    </tr>\n",
              "  </thead>\n",
              "  <tbody>\n",
              "    <tr>\n",
              "      <th>0</th>\n",
              "      <td>30000000.0</td>\n",
              "      <td>21.946943</td>\n",
              "      <td>373554033.0</td>\n",
              "      <td>81.0</td>\n",
              "      <td>5415.0</td>\n",
              "      <td>1.0</td>\n",
              "    </tr>\n",
              "    <tr>\n",
              "      <th>1</th>\n",
              "      <td>65000000.0</td>\n",
              "      <td>17.015539</td>\n",
              "      <td>262797249.0</td>\n",
              "      <td>104.0</td>\n",
              "      <td>2413.0</td>\n",
              "      <td>4.5</td>\n",
              "    </tr>\n",
              "    <tr>\n",
              "      <th>2</th>\n",
              "      <td>0.0</td>\n",
              "      <td>11.712900</td>\n",
              "      <td>0.0</td>\n",
              "      <td>101.0</td>\n",
              "      <td>92.0</td>\n",
              "      <td>5.0</td>\n",
              "    </tr>\n",
              "    <tr>\n",
              "      <th>3</th>\n",
              "      <td>16000000.0</td>\n",
              "      <td>3.859495</td>\n",
              "      <td>81452156.0</td>\n",
              "      <td>127.0</td>\n",
              "      <td>34.0</td>\n",
              "      <td>5.0</td>\n",
              "    </tr>\n",
              "    <tr>\n",
              "      <th>4</th>\n",
              "      <td>0.0</td>\n",
              "      <td>8.387519</td>\n",
              "      <td>76578911.0</td>\n",
              "      <td>106.0</td>\n",
              "      <td>173.0</td>\n",
              "      <td>5.0</td>\n",
              "    </tr>\n",
              "  </tbody>\n",
              "</table>\n",
              "</div>"
            ],
            "text/plain": [
              "       budget  popularity      revenue  runtime  vote_count  rating\n",
              "0  30000000.0   21.946943  373554033.0     81.0      5415.0     1.0\n",
              "1  65000000.0   17.015539  262797249.0    104.0      2413.0     4.5\n",
              "2         0.0   11.712900          0.0    101.0        92.0     5.0\n",
              "3  16000000.0    3.859495   81452156.0    127.0        34.0     5.0\n",
              "4         0.0    8.387519   76578911.0    106.0       173.0     5.0"
            ]
          },
          "metadata": {
            "tags": []
          },
          "execution_count": 24
        }
      ]
    },
    {
      "cell_type": "code",
      "metadata": {
        "colab": {
          "base_uri": "https://localhost:8080/",
          "height": 204
        },
        "id": "qJCqECpQItnq",
        "outputId": "494ba0e2-8dee-45fa-f821-0419232d5588"
      },
      "source": [
        "# НОРМАЛИЗАЦИЯ ДАННЫХ\r\n",
        "import sklearn.preprocessing as preprocessing\r\n",
        "mm_scalar = preprocessing.RobustScaler()\r\n",
        "mm_scalar.fit(df)\r\n",
        "mm_norm_number_data = pd.DataFrame(columns=df.columns, data=mm_scalar.transform(df))\r\n",
        "mm_norm_number_data.head()"
      ],
      "execution_count": null,
      "outputs": [
        {
          "output_type": "execute_result",
          "data": {
            "text/html": [
              "<div>\n",
              "<style scoped>\n",
              "    .dataframe tbody tr th:only-of-type {\n",
              "        vertical-align: middle;\n",
              "    }\n",
              "\n",
              "    .dataframe tbody tr th {\n",
              "        vertical-align: top;\n",
              "    }\n",
              "\n",
              "    .dataframe thead th {\n",
              "        text-align: right;\n",
              "    }\n",
              "</style>\n",
              "<table border=\"1\" class=\"dataframe\">\n",
              "  <thead>\n",
              "    <tr style=\"text-align: right;\">\n",
              "      <th></th>\n",
              "      <th>budget</th>\n",
              "      <th>popularity</th>\n",
              "      <th>revenue</th>\n",
              "      <th>runtime</th>\n",
              "      <th>vote_count</th>\n",
              "      <th>rating</th>\n",
              "    </tr>\n",
              "  </thead>\n",
              "  <tbody>\n",
              "    <tr>\n",
              "      <th>0</th>\n",
              "      <td>30000000.0</td>\n",
              "      <td>6.322364</td>\n",
              "      <td>373554033.0</td>\n",
              "      <td>-0.636364</td>\n",
              "      <td>174.354839</td>\n",
              "      <td>-2.5</td>\n",
              "    </tr>\n",
              "    <tr>\n",
              "      <th>1</th>\n",
              "      <td>65000000.0</td>\n",
              "      <td>4.824802</td>\n",
              "      <td>262797249.0</td>\n",
              "      <td>0.409091</td>\n",
              "      <td>77.516129</td>\n",
              "      <td>1.0</td>\n",
              "    </tr>\n",
              "    <tr>\n",
              "      <th>2</th>\n",
              "      <td>0.0</td>\n",
              "      <td>3.214504</td>\n",
              "      <td>0.0</td>\n",
              "      <td>0.272727</td>\n",
              "      <td>2.645161</td>\n",
              "      <td>1.5</td>\n",
              "    </tr>\n",
              "    <tr>\n",
              "      <th>3</th>\n",
              "      <td>16000000.0</td>\n",
              "      <td>0.829592</td>\n",
              "      <td>81452156.0</td>\n",
              "      <td>1.454545</td>\n",
              "      <td>0.774194</td>\n",
              "      <td>1.5</td>\n",
              "    </tr>\n",
              "    <tr>\n",
              "      <th>4</th>\n",
              "      <td>0.0</td>\n",
              "      <td>2.204657</td>\n",
              "      <td>76578911.0</td>\n",
              "      <td>0.500000</td>\n",
              "      <td>5.258065</td>\n",
              "      <td>1.5</td>\n",
              "    </tr>\n",
              "  </tbody>\n",
              "</table>\n",
              "</div>"
            ],
            "text/plain": [
              "       budget  popularity      revenue   runtime  vote_count  rating\n",
              "0  30000000.0    6.322364  373554033.0 -0.636364  174.354839    -2.5\n",
              "1  65000000.0    4.824802  262797249.0  0.409091   77.516129     1.0\n",
              "2         0.0    3.214504          0.0  0.272727    2.645161     1.5\n",
              "3  16000000.0    0.829592   81452156.0  1.454545    0.774194     1.5\n",
              "4         0.0    2.204657   76578911.0  0.500000    5.258065     1.5"
            ]
          },
          "metadata": {
            "tags": []
          },
          "execution_count": 25
        }
      ]
    },
    {
      "cell_type": "code",
      "metadata": {
        "id": "TCkfvleT1o4t",
        "colab": {
          "base_uri": "https://localhost:8080/",
          "height": 514
        },
        "outputId": "59ff2ebe-1c28-47d3-fc1c-c63c0d7d47cf"
      },
      "source": [
        "#функция \n",
        "def okk(x):\n",
        "  if x['revenue'] >= x['budget']:\n",
        "    return 1\n",
        "  else:\n",
        "    return 0\n",
        "\n",
        "#функция по определению ОКУПАЕМОСТИ/НЕ ОКУПАЕМОСТИ\n",
        "mm_norm_number_data['payback'] = mm_norm_number_data.apply(okk, axis=1)\n",
        "#УДАЛЯЕМ НЕНУЖНЫЙ ПРИЗНАК / СТОЛБЕЦ\n",
        "# mm_norm_number_data.pop(mm_norm_number_data.columns[2])\n",
        "\n",
        "mm_norm_number_data.head(15)"
      ],
      "execution_count": null,
      "outputs": [
        {
          "output_type": "execute_result",
          "data": {
            "text/html": [
              "<div>\n",
              "<style scoped>\n",
              "    .dataframe tbody tr th:only-of-type {\n",
              "        vertical-align: middle;\n",
              "    }\n",
              "\n",
              "    .dataframe tbody tr th {\n",
              "        vertical-align: top;\n",
              "    }\n",
              "\n",
              "    .dataframe thead th {\n",
              "        text-align: right;\n",
              "    }\n",
              "</style>\n",
              "<table border=\"1\" class=\"dataframe\">\n",
              "  <thead>\n",
              "    <tr style=\"text-align: right;\">\n",
              "      <th></th>\n",
              "      <th>budget</th>\n",
              "      <th>popularity</th>\n",
              "      <th>revenue</th>\n",
              "      <th>runtime</th>\n",
              "      <th>vote_count</th>\n",
              "      <th>rating</th>\n",
              "      <th>payback</th>\n",
              "    </tr>\n",
              "  </thead>\n",
              "  <tbody>\n",
              "    <tr>\n",
              "      <th>0</th>\n",
              "      <td>30000000.0</td>\n",
              "      <td>6.322364</td>\n",
              "      <td>373554033.0</td>\n",
              "      <td>-0.636364</td>\n",
              "      <td>174.354839</td>\n",
              "      <td>-2.5</td>\n",
              "      <td>1</td>\n",
              "    </tr>\n",
              "    <tr>\n",
              "      <th>1</th>\n",
              "      <td>65000000.0</td>\n",
              "      <td>4.824802</td>\n",
              "      <td>262797249.0</td>\n",
              "      <td>0.409091</td>\n",
              "      <td>77.516129</td>\n",
              "      <td>1.0</td>\n",
              "      <td>1</td>\n",
              "    </tr>\n",
              "    <tr>\n",
              "      <th>2</th>\n",
              "      <td>0.0</td>\n",
              "      <td>3.214504</td>\n",
              "      <td>0.0</td>\n",
              "      <td>0.272727</td>\n",
              "      <td>2.645161</td>\n",
              "      <td>1.5</td>\n",
              "      <td>1</td>\n",
              "    </tr>\n",
              "    <tr>\n",
              "      <th>3</th>\n",
              "      <td>16000000.0</td>\n",
              "      <td>0.829592</td>\n",
              "      <td>81452156.0</td>\n",
              "      <td>1.454545</td>\n",
              "      <td>0.774194</td>\n",
              "      <td>1.5</td>\n",
              "      <td>1</td>\n",
              "    </tr>\n",
              "    <tr>\n",
              "      <th>4</th>\n",
              "      <td>0.0</td>\n",
              "      <td>2.204657</td>\n",
              "      <td>76578911.0</td>\n",
              "      <td>0.500000</td>\n",
              "      <td>5.258065</td>\n",
              "      <td>1.5</td>\n",
              "      <td>1</td>\n",
              "    </tr>\n",
              "    <tr>\n",
              "      <th>5</th>\n",
              "      <td>60000000.0</td>\n",
              "      <td>5.100964</td>\n",
              "      <td>187436818.0</td>\n",
              "      <td>3.409091</td>\n",
              "      <td>60.516129</td>\n",
              "      <td>0.5</td>\n",
              "      <td>1</td>\n",
              "    </tr>\n",
              "    <tr>\n",
              "      <th>6</th>\n",
              "      <td>58000000.0</td>\n",
              "      <td>1.685293</td>\n",
              "      <td>0.0</td>\n",
              "      <td>1.454545</td>\n",
              "      <td>4.225806</td>\n",
              "      <td>1.0</td>\n",
              "      <td>0</td>\n",
              "    </tr>\n",
              "    <tr>\n",
              "      <th>7</th>\n",
              "      <td>0.0</td>\n",
              "      <td>0.435316</td>\n",
              "      <td>0.0</td>\n",
              "      <td>0.090909</td>\n",
              "      <td>1.129032</td>\n",
              "      <td>1.5</td>\n",
              "      <td>1</td>\n",
              "    </tr>\n",
              "    <tr>\n",
              "      <th>8</th>\n",
              "      <td>35000000.0</td>\n",
              "      <td>1.246265</td>\n",
              "      <td>64350171.0</td>\n",
              "      <td>0.500000</td>\n",
              "      <td>5.290323</td>\n",
              "      <td>0.5</td>\n",
              "      <td>1</td>\n",
              "    </tr>\n",
              "    <tr>\n",
              "      <th>9</th>\n",
              "      <td>58000000.0</td>\n",
              "      <td>4.117382</td>\n",
              "      <td>352194034.0</td>\n",
              "      <td>1.590909</td>\n",
              "      <td>38.193548</td>\n",
              "      <td>0.5</td>\n",
              "      <td>1</td>\n",
              "    </tr>\n",
              "    <tr>\n",
              "      <th>10</th>\n",
              "      <td>62000000.0</td>\n",
              "      <td>1.576323</td>\n",
              "      <td>107879496.0</td>\n",
              "      <td>0.500000</td>\n",
              "      <td>6.096774</td>\n",
              "      <td>1.5</td>\n",
              "      <td>1</td>\n",
              "    </tr>\n",
              "    <tr>\n",
              "      <th>11</th>\n",
              "      <td>0.0</td>\n",
              "      <td>1.306622</td>\n",
              "      <td>0.0</td>\n",
              "      <td>-0.318182</td>\n",
              "      <td>6.451613</td>\n",
              "      <td>1.5</td>\n",
              "      <td>1</td>\n",
              "    </tr>\n",
              "    <tr>\n",
              "      <th>12</th>\n",
              "      <td>0.0</td>\n",
              "      <td>3.344428</td>\n",
              "      <td>11348324.0</td>\n",
              "      <td>-0.772727</td>\n",
              "      <td>13.322581</td>\n",
              "      <td>0.5</td>\n",
              "      <td>1</td>\n",
              "    </tr>\n",
              "    <tr>\n",
              "      <th>13</th>\n",
              "      <td>44000000.0</td>\n",
              "      <td>1.203878</td>\n",
              "      <td>13681765.0</td>\n",
              "      <td>4.409091</td>\n",
              "      <td>2.000000</td>\n",
              "      <td>0.0</td>\n",
              "      <td>0</td>\n",
              "    </tr>\n",
              "    <tr>\n",
              "      <th>14</th>\n",
              "      <td>98000000.0</td>\n",
              "      <td>1.869686</td>\n",
              "      <td>10017322.0</td>\n",
              "      <td>1.090909</td>\n",
              "      <td>4.096774</td>\n",
              "      <td>0.5</td>\n",
              "      <td>0</td>\n",
              "    </tr>\n",
              "  </tbody>\n",
              "</table>\n",
              "</div>"
            ],
            "text/plain": [
              "        budget  popularity      revenue   runtime  vote_count  rating  payback\n",
              "0   30000000.0    6.322364  373554033.0 -0.636364  174.354839    -2.5        1\n",
              "1   65000000.0    4.824802  262797249.0  0.409091   77.516129     1.0        1\n",
              "2          0.0    3.214504          0.0  0.272727    2.645161     1.5        1\n",
              "3   16000000.0    0.829592   81452156.0  1.454545    0.774194     1.5        1\n",
              "4          0.0    2.204657   76578911.0  0.500000    5.258065     1.5        1\n",
              "5   60000000.0    5.100964  187436818.0  3.409091   60.516129     0.5        1\n",
              "6   58000000.0    1.685293          0.0  1.454545    4.225806     1.0        0\n",
              "7          0.0    0.435316          0.0  0.090909    1.129032     1.5        1\n",
              "8   35000000.0    1.246265   64350171.0  0.500000    5.290323     0.5        1\n",
              "9   58000000.0    4.117382  352194034.0  1.590909   38.193548     0.5        1\n",
              "10  62000000.0    1.576323  107879496.0  0.500000    6.096774     1.5        1\n",
              "11         0.0    1.306622          0.0 -0.318182    6.451613     1.5        1\n",
              "12         0.0    3.344428   11348324.0 -0.772727   13.322581     0.5        1\n",
              "13  44000000.0    1.203878   13681765.0  4.409091    2.000000     0.0        0\n",
              "14  98000000.0    1.869686   10017322.0  1.090909    4.096774     0.5        0"
            ]
          },
          "metadata": {
            "tags": []
          },
          "execution_count": 26
        }
      ]
    },
    {
      "cell_type": "code",
      "metadata": {
        "colab": {
          "base_uri": "https://localhost:8080/"
        },
        "id": "hCQGtGFEbIZe",
        "outputId": "8a8e549d-e1a4-42a1-8756-4849b6e78f3e"
      },
      "source": [
        "pd.isnull(mm_norm_number_data).sum()"
      ],
      "execution_count": null,
      "outputs": [
        {
          "output_type": "execute_result",
          "data": {
            "text/plain": [
              "budget          3\n",
              "popularity      6\n",
              "revenue         6\n",
              "runtime       263\n",
              "vote_count      6\n",
              "rating          0\n",
              "payback         0\n",
              "dtype: int64"
            ]
          },
          "metadata": {
            "tags": []
          },
          "execution_count": 27
        }
      ]
    },
    {
      "cell_type": "code",
      "metadata": {
        "colab": {
          "base_uri": "https://localhost:8080/"
        },
        "id": "ZtkXxJ1_bUt2",
        "outputId": "f3341ac9-747d-4cec-f940-2682b0fab4f0"
      },
      "source": [
        "# Удаление пропусков через взятия среднего\r\n",
        "# ИТОГОВЫЕ ДАННЫЕ - ready_df\r\n",
        "ready_df = mm_norm_number_data.fillna(mm_norm_number_data.mean())\r\n",
        "print(f'Mean: \\n{mm_norm_number_data.mean()}')\r\n",
        "print(\"--------------------------------------------\")\r\n",
        "pd.isnull(ready_df).sum()"
      ],
      "execution_count": null,
      "outputs": [
        {
          "output_type": "stream",
          "text": [
            "Mean: \n",
            "budget        4.224579e+06\n",
            "popularity    5.447368e-01\n",
            "revenue       1.120935e+07\n",
            "runtime      -3.962730e-02\n",
            "vote_count    3.222495e+00\n",
            "rating       -6.147451e-03\n",
            "payback       8.873884e-01\n",
            "dtype: float64\n",
            "--------------------------------------------\n"
          ],
          "name": "stdout"
        },
        {
          "output_type": "execute_result",
          "data": {
            "text/plain": [
              "budget        0\n",
              "popularity    0\n",
              "revenue       0\n",
              "runtime       0\n",
              "vote_count    0\n",
              "rating        0\n",
              "payback       0\n",
              "dtype: int64"
            ]
          },
          "metadata": {
            "tags": []
          },
          "execution_count": 28
        }
      ]
    },
    {
      "cell_type": "code",
      "metadata": {
        "id": "CSehcwLRW3jo",
        "colab": {
          "base_uri": "https://localhost:8080/",
          "height": 619
        },
        "outputId": "bdcd563b-3b56-4c9c-c50d-bc441555aa79"
      },
      "source": [
        "plt.figure(figsize=(15, 10))\n",
        "sns.scatterplot(data=ready_df[ready_df.columns[:-1]])"
      ],
      "execution_count": null,
      "outputs": [
        {
          "output_type": "execute_result",
          "data": {
            "text/plain": [
              "<matplotlib.axes._subplots.AxesSubplot at 0x7f6030542908>"
            ]
          },
          "metadata": {
            "tags": []
          },
          "execution_count": 29
        },
        {
          "output_type": "display_data",
          "data": {
            "image/png": "[encoded data removed]",
            "text/plain": [
              "<Figure size 1080x720 with 1 Axes>"
            ]
          },
          "metadata": {
            "tags": [],
            "needs_background": "light"
          }
        }
      ]
    },
    {
      "cell_type": "code",
      "metadata": {
        "id": "tERGfH0MUG4c"
      },
      "source": [
        "from sklearn.model_selection import train_test_split\r\n",
        "\r\n",
        "X = ready_df[ready_df.columns[:-1]]\r\n",
        "Y = ready_df[ready_df.columns[-1:]]\r\n",
        "\r\n",
        "X_train, X_test, Y_train, Y_test = train_test_split(X, Y, train_size=0.4)"
      ],
      "execution_count": null,
      "outputs": []
    },
    {
      "cell_type": "code",
      "metadata": {
        "id": "CjO6amQss4c7"
      },
      "source": [
        "#подключаем библиотеку\n",
        "import keras\n",
        "from keras.layers import Dense\n",
        "from keras.models import Sequential\n",
        "from keras import activations\n",
        "from keras.optimizers import Adam, RMSprop\n",
        "from keras.losses import categorical_crossentropy\n",
        "from keras.metrics import categorical_accuracy"
      ],
      "execution_count": null,
      "outputs": []
    },
    {
      "cell_type": "code",
      "metadata": {
        "id": "G9xBNxEttIyo"
      },
      "source": [
        "#создем сеть\n",
        "model = Sequential()"
      ],
      "execution_count": null,
      "outputs": []
    },
    {
      "cell_type": "code",
      "metadata": {
        "id": "KSOaEX8-tqKm"
      },
      "source": [
        "#создаем сущность сети\n",
        "model.add(Dense(5, activation='relu', input_dim=X_train.shape[1]))"
      ],
      "execution_count": null,
      "outputs": []
    },
    {
      "cell_type": "code",
      "metadata": {
        "id": "ehDfiDlfk8OB"
      },
      "source": [
        "#добавляем слой из 10 нейронов с функцией активации Relu и количеством входов\n",
        "#равным количеству столбцов во входном массиве\n",
        "model.add(Dense(Y_train.shape[1], activation=activations.softmax))"
      ],
      "execution_count": null,
      "outputs": []
    },
    {
      "cell_type": "code",
      "metadata": {
        "id": "xR0-OqZimw9a"
      },
      "source": [
        "#добавляем последний слой\n",
        "model.compile(Adam(), categorical_crossentropy, metrics='acc')"
      ],
      "execution_count": null,
      "outputs": []
    },
    {
      "cell_type": "code",
      "metadata": {
        "colab": {
          "base_uri": "https://localhost:8080/"
        },
        "id": "j9qRz-4-nH3J",
        "outputId": "cf76b1c8-1f4c-4849-aee1-1d64b621125f"
      },
      "source": [
        "#обучение ()\n",
        "model.fit(X_train, Y_train, verbose=2, epochs=10, batch_size=3)"
      ],
      "execution_count": null,
      "outputs": [
        {
          "output_type": "stream",
          "text": [
            "Epoch 1/10\n",
            "6062/6062 - 4s - loss: 0.0000e+00 - acc: 0.8898\n",
            "Epoch 2/10\n",
            "6062/6062 - 4s - loss: 0.0000e+00 - acc: 0.8898\n",
            "Epoch 3/10\n",
            "6062/6062 - 4s - loss: 0.0000e+00 - acc: 0.8898\n",
            "Epoch 4/10\n",
            "6062/6062 - 4s - loss: 0.0000e+00 - acc: 0.8898\n",
            "Epoch 5/10\n",
            "6062/6062 - 4s - loss: 0.0000e+00 - acc: 0.8898\n",
            "Epoch 6/10\n",
            "6062/6062 - 4s - loss: 0.0000e+00 - acc: 0.8898\n",
            "Epoch 7/10\n",
            "6062/6062 - 4s - loss: 0.0000e+00 - acc: 0.8898\n",
            "Epoch 8/10\n",
            "6062/6062 - 4s - loss: 0.0000e+00 - acc: 0.8898\n",
            "Epoch 9/10\n",
            "6062/6062 - 4s - loss: 0.0000e+00 - acc: 0.8898\n",
            "Epoch 10/10\n",
            "6062/6062 - 4s - loss: 0.0000e+00 - acc: 0.8898\n"
          ],
          "name": "stdout"
        },
        {
          "output_type": "execute_result",
          "data": {
            "text/plain": [
              "<tensorflow.python.keras.callbacks.History at 0x7f5ff3b111d0>"
            ]
          },
          "metadata": {
            "tags": []
          },
          "execution_count": 36
        }
      ]
    },
    {
      "cell_type": "code",
      "metadata": {
        "colab": {
          "base_uri": "https://localhost:8080/"
        },
        "id": "s39_nJQht-Ku",
        "outputId": "504b8d31-9b1f-4d51-87c2-84afbea51842"
      },
      "source": [
        "#для тренировочных данных\n",
        "model.evaluate(X_train, Y_train)"
      ],
      "execution_count": null,
      "outputs": [
        {
          "output_type": "stream",
          "text": [
            "569/569 [==============================] - 1s 917us/step - loss: 0.0000e+00 - acc: 0.8898\n"
          ],
          "name": "stdout"
        },
        {
          "output_type": "execute_result",
          "data": {
            "text/plain": [
              "[0.0, 0.8898053169250488]"
            ]
          },
          "metadata": {
            "tags": []
          },
          "execution_count": 37
        }
      ]
    },
    {
      "cell_type": "code",
      "metadata": {
        "colab": {
          "base_uri": "https://localhost:8080/"
        },
        "id": "him4-T_mudPa",
        "outputId": "2f4cb77e-1e4d-4b5a-dd08-6ef6a520b865"
      },
      "source": [
        "#для тестовых данных\n",
        "model.evaluate(X_test, Y_test)"
      ],
      "execution_count": null,
      "outputs": [
        {
          "output_type": "stream",
          "text": [
            "853/853 [==============================] - 1s 965us/step - loss: 0.0000e+00 - acc: 0.8858\n"
          ],
          "name": "stdout"
        },
        {
          "output_type": "execute_result",
          "data": {
            "text/plain": [
              "[0.0, 0.8857771158218384]"
            ]
          },
          "metadata": {
            "tags": []
          },
          "execution_count": 38
        }
      ]
    },
    {
      "cell_type": "code",
      "metadata": {
        "colab": {
          "base_uri": "https://localhost:8080/"
        },
        "id": "4uKYzpUdupUz",
        "outputId": "55ec7a3a-594a-4985-a820-54b73663fa47"
      },
      "source": [
        "X_train.shape, X_test.shape"
      ],
      "execution_count": null,
      "outputs": [
        {
          "output_type": "execute_result",
          "data": {
            "text/plain": [
              "((18186, 6), (27280, 6))"
            ]
          },
          "metadata": {
            "tags": []
          },
          "execution_count": 39
        }
      ]
    }
  ]
}